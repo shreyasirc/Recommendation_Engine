{
  "nbformat": 4,
  "nbformat_minor": 0,
  "metadata": {
    "colab": {
      "name": "Recom_Item_Item_CF.ipynb",
      "provenance": [],
      "collapsed_sections": [],
      "toc_visible": true
    },
    "kernelspec": {
      "name": "python3",
      "display_name": "Python 3"
    }
  },
  "cells": [
    {
      "cell_type": "markdown",
      "metadata": {
        "id": "4lOkop69o0aH",
        "colab_type": "text"
      },
      "source": [
        "#Item- Item based Collaborative Filtering \n",
        "\n",
        "> Here, top three Movies similar to a specified Movie are predicted using the cosine similarities between the Movies.\n",
        " \n",
        "\n"
      ]
    },
    {
      "cell_type": "code",
      "metadata": {
        "id": "0874c7BjpASJ",
        "colab_type": "code",
        "colab": {
          "base_uri": "https://localhost:8080/",
          "height": 163
        },
        "outputId": "b3b2f4f0-fb5d-4754-914c-78786cae22c8"
      },
      "source": [
        "# Clone the entire repo.\n",
        "!git clone -l -s https://github.com/AdarshKumar712/Recommendation_Engine.git cloned-repo\n",
        "%cd cloned-repo\n",
        "!ls"
      ],
      "execution_count": 72,
      "outputs": [
        {
          "output_type": "stream",
          "text": [
            "Cloning into 'cloned-repo'...\n",
            "warning: --local is ignored\n",
            "remote: Enumerating objects: 34, done.\u001b[K\n",
            "remote: Counting objects:   2% (1/34)\u001b[K\rremote: Counting objects:   5% (2/34)\u001b[K\rremote: Counting objects:   8% (3/34)\u001b[K\rremote: Counting objects:  11% (4/34)\u001b[K\rremote: Counting objects:  14% (5/34)\u001b[K\rremote: Counting objects:  17% (6/34)\u001b[K\rremote: Counting objects:  20% (7/34)\u001b[K\rremote: Counting objects:  23% (8/34)\u001b[K\rremote: Counting objects:  26% (9/34)\u001b[K\rremote: Counting objects:  29% (10/34)\u001b[K\rremote: Counting objects:  32% (11/34)\u001b[K\rremote: Counting objects:  35% (12/34)\u001b[K\rremote: Counting objects:  38% (13/34)\u001b[K\rremote: Counting objects:  41% (14/34)\u001b[K\rremote: Counting objects:  44% (15/34)\u001b[K\rremote: Counting objects:  47% (16/34)\u001b[K\rremote: Counting objects:  50% (17/34)\u001b[K\rremote: Counting objects:  52% (18/34)\u001b[K\rremote: Counting objects:  55% (19/34)\u001b[K\rremote: Counting objects:  58% (20/34)\u001b[K\rremote: Counting objects:  61% (21/34)\u001b[K\rremote: Counting objects:  64% (22/34)\u001b[K\rremote: Counting objects:  67% (23/34)\u001b[K\rremote: Counting objects:  70% (24/34)\u001b[K\rremote: Counting objects:  73% (25/34)\u001b[K\rremote: Counting objects:  76% (26/34)\u001b[K\rremote: Counting objects:  79% (27/34)\u001b[K\rremote: Counting objects:  82% (28/34)\u001b[K\rremote: Counting objects:  85% (29/34)\u001b[K\rremote: Counting objects:  88% (30/34)\u001b[K\rremote: Counting objects:  91% (31/34)\u001b[K\rremote: Counting objects:  94% (32/34)\u001b[K\rremote: Counting objects:  97% (33/34)\u001b[K\rremote: Counting objects: 100% (34/34)\u001b[K\rremote: Counting objects: 100% (34/34), done.\u001b[K\n",
            "remote: Compressing objects: 100% (33/33), done.\u001b[K\n",
            "remote: Total 34 (delta 10), reused 13 (delta 1), pack-reused 0\u001b[K\n",
            "Unpacking objects: 100% (34/34), done.\n",
            "/content/cloned-repo/cloned-repo/cloned-repo\n",
            "LICENSE  MovieLen100k  MovieLen1M  README.md\n"
          ],
          "name": "stdout"
        }
      ]
    },
    {
      "cell_type": "code",
      "metadata": {
        "id": "j8mtU9gspMQp",
        "colab_type": "code",
        "colab": {}
      },
      "source": [
        "import pandas as pd\n",
        "import matplotlib.pyplot as plt\n",
        "import numpy as np"
      ],
      "execution_count": 0,
      "outputs": []
    },
    {
      "cell_type": "code",
      "metadata": {
        "id": "093LYNlzq6xA",
        "colab_type": "code",
        "colab": {
          "base_uri": "https://localhost:8080/",
          "height": 135
        },
        "outputId": "fecf6c85-8086-4a6a-a1e3-6c4a6ffd0ec6"
      },
      "source": [
        "#Reading the required csv files\n",
        "Movies = pd.read_csv(\"./MovieLen1M/movies.dat\", sep='::',header = None)\n",
        "Ratings = pd.read_csv(\"./MovieLen1M/ratings.dat\", sep='::',header = None)\n",
        "Links = pd.read_csv(\"./MovieLen1M/users.dat\", sep='::',header = None)"
      ],
      "execution_count": 78,
      "outputs": [
        {
          "output_type": "stream",
          "text": [
            "/usr/local/lib/python3.6/dist-packages/ipykernel_launcher.py:1: ParserWarning: Falling back to the 'python' engine because the 'c' engine does not support regex separators (separators > 1 char and different from '\\s+' are interpreted as regex); you can avoid this warning by specifying engine='python'.\n",
            "  \"\"\"Entry point for launching an IPython kernel.\n",
            "/usr/local/lib/python3.6/dist-packages/ipykernel_launcher.py:2: ParserWarning: Falling back to the 'python' engine because the 'c' engine does not support regex separators (separators > 1 char and different from '\\s+' are interpreted as regex); you can avoid this warning by specifying engine='python'.\n",
            "  \n",
            "/usr/local/lib/python3.6/dist-packages/ipykernel_launcher.py:3: ParserWarning: Falling back to the 'python' engine because the 'c' engine does not support regex separators (separators > 1 char and different from '\\s+' are interpreted as regex); you can avoid this warning by specifying engine='python'.\n",
            "  This is separate from the ipykernel package so we can avoid doing imports until\n"
          ],
          "name": "stderr"
        }
      ]
    },
    {
      "cell_type": "code",
      "metadata": {
        "id": "bf36VUkSrVlw",
        "colab_type": "code",
        "colab": {
          "base_uri": "https://localhost:8080/",
          "height": 191
        },
        "outputId": "f7175f10-e9b6-4f9e-bdd1-eb172821456f"
      },
      "source": [
        "Movies.head()"
      ],
      "execution_count": 79,
      "outputs": [
        {
          "output_type": "execute_result",
          "data": {
            "text/html": [
              "<div>\n",
              "<style scoped>\n",
              "    .dataframe tbody tr th:only-of-type {\n",
              "        vertical-align: middle;\n",
              "    }\n",
              "\n",
              "    .dataframe tbody tr th {\n",
              "        vertical-align: top;\n",
              "    }\n",
              "\n",
              "    .dataframe thead th {\n",
              "        text-align: right;\n",
              "    }\n",
              "</style>\n",
              "<table border=\"1\" class=\"dataframe\">\n",
              "  <thead>\n",
              "    <tr style=\"text-align: right;\">\n",
              "      <th></th>\n",
              "      <th>0</th>\n",
              "      <th>1</th>\n",
              "      <th>2</th>\n",
              "    </tr>\n",
              "  </thead>\n",
              "  <tbody>\n",
              "    <tr>\n",
              "      <th>0</th>\n",
              "      <td>1</td>\n",
              "      <td>Toy Story (1995)</td>\n",
              "      <td>Animation|Children's|Comedy</td>\n",
              "    </tr>\n",
              "    <tr>\n",
              "      <th>1</th>\n",
              "      <td>2</td>\n",
              "      <td>Jumanji (1995)</td>\n",
              "      <td>Adventure|Children's|Fantasy</td>\n",
              "    </tr>\n",
              "    <tr>\n",
              "      <th>2</th>\n",
              "      <td>3</td>\n",
              "      <td>Grumpier Old Men (1995)</td>\n",
              "      <td>Comedy|Romance</td>\n",
              "    </tr>\n",
              "    <tr>\n",
              "      <th>3</th>\n",
              "      <td>4</td>\n",
              "      <td>Waiting to Exhale (1995)</td>\n",
              "      <td>Comedy|Drama</td>\n",
              "    </tr>\n",
              "    <tr>\n",
              "      <th>4</th>\n",
              "      <td>5</td>\n",
              "      <td>Father of the Bride Part II (1995)</td>\n",
              "      <td>Comedy</td>\n",
              "    </tr>\n",
              "  </tbody>\n",
              "</table>\n",
              "</div>"
            ],
            "text/plain": [
              "   0                                   1                             2\n",
              "0  1                    Toy Story (1995)   Animation|Children's|Comedy\n",
              "1  2                      Jumanji (1995)  Adventure|Children's|Fantasy\n",
              "2  3             Grumpier Old Men (1995)                Comedy|Romance\n",
              "3  4            Waiting to Exhale (1995)                  Comedy|Drama\n",
              "4  5  Father of the Bride Part II (1995)                        Comedy"
            ]
          },
          "metadata": {
            "tags": []
          },
          "execution_count": 79
        }
      ]
    },
    {
      "cell_type": "code",
      "metadata": {
        "id": "dFjp2QY-rt5o",
        "colab_type": "code",
        "colab": {
          "base_uri": "https://localhost:8080/",
          "height": 277
        },
        "outputId": "72d205c6-b3c4-4d78-a5a6-b75831e9bfd6"
      },
      "source": [
        "Movies.describe()"
      ],
      "execution_count": 80,
      "outputs": [
        {
          "output_type": "execute_result",
          "data": {
            "text/html": [
              "<div>\n",
              "<style scoped>\n",
              "    .dataframe tbody tr th:only-of-type {\n",
              "        vertical-align: middle;\n",
              "    }\n",
              "\n",
              "    .dataframe tbody tr th {\n",
              "        vertical-align: top;\n",
              "    }\n",
              "\n",
              "    .dataframe thead th {\n",
              "        text-align: right;\n",
              "    }\n",
              "</style>\n",
              "<table border=\"1\" class=\"dataframe\">\n",
              "  <thead>\n",
              "    <tr style=\"text-align: right;\">\n",
              "      <th></th>\n",
              "      <th>0</th>\n",
              "    </tr>\n",
              "  </thead>\n",
              "  <tbody>\n",
              "    <tr>\n",
              "      <th>count</th>\n",
              "      <td>3883.000000</td>\n",
              "    </tr>\n",
              "    <tr>\n",
              "      <th>mean</th>\n",
              "      <td>1986.049446</td>\n",
              "    </tr>\n",
              "    <tr>\n",
              "      <th>std</th>\n",
              "      <td>1146.778349</td>\n",
              "    </tr>\n",
              "    <tr>\n",
              "      <th>min</th>\n",
              "      <td>1.000000</td>\n",
              "    </tr>\n",
              "    <tr>\n",
              "      <th>25%</th>\n",
              "      <td>982.500000</td>\n",
              "    </tr>\n",
              "    <tr>\n",
              "      <th>50%</th>\n",
              "      <td>2010.000000</td>\n",
              "    </tr>\n",
              "    <tr>\n",
              "      <th>75%</th>\n",
              "      <td>2980.500000</td>\n",
              "    </tr>\n",
              "    <tr>\n",
              "      <th>max</th>\n",
              "      <td>3952.000000</td>\n",
              "    </tr>\n",
              "  </tbody>\n",
              "</table>\n",
              "</div>"
            ],
            "text/plain": [
              "                 0\n",
              "count  3883.000000\n",
              "mean   1986.049446\n",
              "std    1146.778349\n",
              "min       1.000000\n",
              "25%     982.500000\n",
              "50%    2010.000000\n",
              "75%    2980.500000\n",
              "max    3952.000000"
            ]
          },
          "metadata": {
            "tags": []
          },
          "execution_count": 80
        }
      ]
    },
    {
      "cell_type": "markdown",
      "metadata": {
        "id": "_ndNbFoYq7rJ",
        "colab_type": "text"
      },
      "source": [
        "Before moving further, we need to map the MovieIds to an increasing sequence of indexes which will be used as reference in the similarity matrix"
      ]
    },
    {
      "cell_type": "code",
      "metadata": {
        "id": "S2wBGsGz7IVA",
        "colab_type": "code",
        "colab": {}
      },
      "source": [
        "#map MovieId with Sequence\n",
        "Id_Map = {}\n",
        "Reverse_Id_Map = {}\n",
        "for i in range (0,len(Movies[0])):\n",
        "  Id_Map[Movies[0][i]] = i\n",
        "  Reverse_Id_Map[i] = Movies[0][i]"
      ],
      "execution_count": 0,
      "outputs": []
    },
    {
      "cell_type": "code",
      "metadata": {
        "id": "h52PahsCCaZh",
        "colab_type": "code",
        "colab": {
          "base_uri": "https://localhost:8080/",
          "height": 33
        },
        "outputId": "cce3fec3-384e-4acd-fcfb-922ffc664ab4"
      },
      "source": [
        "len(Id_Map)"
      ],
      "execution_count": 82,
      "outputs": [
        {
          "output_type": "execute_result",
          "data": {
            "text/plain": [
              "3883"
            ]
          },
          "metadata": {
            "tags": []
          },
          "execution_count": 82
        }
      ]
    },
    {
      "cell_type": "code",
      "metadata": {
        "id": "iWwQIzVprerI",
        "colab_type": "code",
        "colab": {
          "base_uri": "https://localhost:8080/",
          "height": 191
        },
        "outputId": "0e4eb8d8-dc2c-43b3-b8f9-a3c6787b862b"
      },
      "source": [
        "Ratings.head()"
      ],
      "execution_count": 83,
      "outputs": [
        {
          "output_type": "execute_result",
          "data": {
            "text/html": [
              "<div>\n",
              "<style scoped>\n",
              "    .dataframe tbody tr th:only-of-type {\n",
              "        vertical-align: middle;\n",
              "    }\n",
              "\n",
              "    .dataframe tbody tr th {\n",
              "        vertical-align: top;\n",
              "    }\n",
              "\n",
              "    .dataframe thead th {\n",
              "        text-align: right;\n",
              "    }\n",
              "</style>\n",
              "<table border=\"1\" class=\"dataframe\">\n",
              "  <thead>\n",
              "    <tr style=\"text-align: right;\">\n",
              "      <th></th>\n",
              "      <th>0</th>\n",
              "      <th>1</th>\n",
              "      <th>2</th>\n",
              "      <th>3</th>\n",
              "    </tr>\n",
              "  </thead>\n",
              "  <tbody>\n",
              "    <tr>\n",
              "      <th>0</th>\n",
              "      <td>1</td>\n",
              "      <td>1193</td>\n",
              "      <td>5</td>\n",
              "      <td>978300760</td>\n",
              "    </tr>\n",
              "    <tr>\n",
              "      <th>1</th>\n",
              "      <td>1</td>\n",
              "      <td>661</td>\n",
              "      <td>3</td>\n",
              "      <td>978302109</td>\n",
              "    </tr>\n",
              "    <tr>\n",
              "      <th>2</th>\n",
              "      <td>1</td>\n",
              "      <td>914</td>\n",
              "      <td>3</td>\n",
              "      <td>978301968</td>\n",
              "    </tr>\n",
              "    <tr>\n",
              "      <th>3</th>\n",
              "      <td>1</td>\n",
              "      <td>3408</td>\n",
              "      <td>4</td>\n",
              "      <td>978300275</td>\n",
              "    </tr>\n",
              "    <tr>\n",
              "      <th>4</th>\n",
              "      <td>1</td>\n",
              "      <td>2355</td>\n",
              "      <td>5</td>\n",
              "      <td>978824291</td>\n",
              "    </tr>\n",
              "  </tbody>\n",
              "</table>\n",
              "</div>"
            ],
            "text/plain": [
              "   0     1  2          3\n",
              "0  1  1193  5  978300760\n",
              "1  1   661  3  978302109\n",
              "2  1   914  3  978301968\n",
              "3  1  3408  4  978300275\n",
              "4  1  2355  5  978824291"
            ]
          },
          "metadata": {
            "tags": []
          },
          "execution_count": 83
        }
      ]
    },
    {
      "cell_type": "code",
      "metadata": {
        "id": "5rqhxEh-rl4v",
        "colab_type": "code",
        "colab": {
          "base_uri": "https://localhost:8080/",
          "height": 191
        },
        "outputId": "9c0add1b-38c2-4e1a-e19c-63f3a5039063"
      },
      "source": [
        "Links.head()"
      ],
      "execution_count": 85,
      "outputs": [
        {
          "output_type": "execute_result",
          "data": {
            "text/html": [
              "<div>\n",
              "<style scoped>\n",
              "    .dataframe tbody tr th:only-of-type {\n",
              "        vertical-align: middle;\n",
              "    }\n",
              "\n",
              "    .dataframe tbody tr th {\n",
              "        vertical-align: top;\n",
              "    }\n",
              "\n",
              "    .dataframe thead th {\n",
              "        text-align: right;\n",
              "    }\n",
              "</style>\n",
              "<table border=\"1\" class=\"dataframe\">\n",
              "  <thead>\n",
              "    <tr style=\"text-align: right;\">\n",
              "      <th></th>\n",
              "      <th>0</th>\n",
              "      <th>1</th>\n",
              "      <th>2</th>\n",
              "      <th>3</th>\n",
              "      <th>4</th>\n",
              "    </tr>\n",
              "  </thead>\n",
              "  <tbody>\n",
              "    <tr>\n",
              "      <th>0</th>\n",
              "      <td>1</td>\n",
              "      <td>F</td>\n",
              "      <td>1</td>\n",
              "      <td>10</td>\n",
              "      <td>48067</td>\n",
              "    </tr>\n",
              "    <tr>\n",
              "      <th>1</th>\n",
              "      <td>2</td>\n",
              "      <td>M</td>\n",
              "      <td>56</td>\n",
              "      <td>16</td>\n",
              "      <td>70072</td>\n",
              "    </tr>\n",
              "    <tr>\n",
              "      <th>2</th>\n",
              "      <td>3</td>\n",
              "      <td>M</td>\n",
              "      <td>25</td>\n",
              "      <td>15</td>\n",
              "      <td>55117</td>\n",
              "    </tr>\n",
              "    <tr>\n",
              "      <th>3</th>\n",
              "      <td>4</td>\n",
              "      <td>M</td>\n",
              "      <td>45</td>\n",
              "      <td>7</td>\n",
              "      <td>02460</td>\n",
              "    </tr>\n",
              "    <tr>\n",
              "      <th>4</th>\n",
              "      <td>5</td>\n",
              "      <td>M</td>\n",
              "      <td>25</td>\n",
              "      <td>20</td>\n",
              "      <td>55455</td>\n",
              "    </tr>\n",
              "  </tbody>\n",
              "</table>\n",
              "</div>"
            ],
            "text/plain": [
              "   0  1   2   3      4\n",
              "0  1  F   1  10  48067\n",
              "1  2  M  56  16  70072\n",
              "2  3  M  25  15  55117\n",
              "3  4  M  45   7  02460\n",
              "4  5  M  25  20  55455"
            ]
          },
          "metadata": {
            "tags": []
          },
          "execution_count": 85
        }
      ]
    },
    {
      "cell_type": "markdown",
      "metadata": {
        "id": "f9xvbmnut0O5",
        "colab_type": "text"
      },
      "source": [
        "##Simple Filtering Based on the Ratings given\n",
        "Here, a rating matrix is created wrt the user and Movies where row represent user and column represent the Movies"
      ]
    },
    {
      "cell_type": "code",
      "metadata": {
        "id": "PK_5-RmKroFr",
        "colab_type": "code",
        "colab": {}
      },
      "source": [
        "Users = (Ratings[0].unique().shape[0])\n",
        "Total_Movies  = (Movies[0].unique().shape[0])"
      ],
      "execution_count": 0,
      "outputs": []
    },
    {
      "cell_type": "code",
      "metadata": {
        "id": "pwsPi0yuaVAY",
        "colab_type": "code",
        "colab": {
          "base_uri": "https://localhost:8080/",
          "height": 33
        },
        "outputId": "4b3bb654-1cf3-47ef-9de2-1871ce7ab626"
      },
      "source": [
        "Id_Map[Ratings.iloc[i,1]]"
      ],
      "execution_count": 98,
      "outputs": [
        {
          "output_type": "execute_result",
          "data": {
            "text/plain": [
              "2179"
            ]
          },
          "metadata": {
            "tags": []
          },
          "execution_count": 98
        }
      ]
    },
    {
      "cell_type": "code",
      "metadata": {
        "id": "COAEnB8vyTuQ",
        "colab_type": "code",
        "colab": {}
      },
      "source": [
        "Rating_matrix = np.zeros((Users+1,Total_Movies))"
      ],
      "execution_count": 0,
      "outputs": []
    },
    {
      "cell_type": "code",
      "metadata": {
        "id": "XDoVNRH_z8uT",
        "colab_type": "code",
        "colab": {}
      },
      "source": [
        "for i in range(0,len(Ratings[0])):\n",
        "  Rating_matrix[Ratings.iloc[i,0],Id_Map[Ratings.iloc[i,1]]] = Ratings.iloc[i,2]"
      ],
      "execution_count": 0,
      "outputs": []
    },
    {
      "cell_type": "code",
      "metadata": {
        "id": "u1ljQ-du0Tqq",
        "colab_type": "code",
        "colab": {
          "base_uri": "https://localhost:8080/",
          "height": 131
        },
        "outputId": "8f04a81a-2b19-4783-c177-18976461999d"
      },
      "source": [
        "Rating_matrix\n",
        "#Row_zero is the buffer"
      ],
      "execution_count": 100,
      "outputs": [
        {
          "output_type": "execute_result",
          "data": {
            "text/plain": [
              "array([[0., 0., 0., ..., 0., 0., 0.],\n",
              "       [5., 0., 0., ..., 0., 0., 0.],\n",
              "       [0., 0., 0., ..., 0., 0., 0.],\n",
              "       ...,\n",
              "       [0., 0., 0., ..., 0., 0., 0.],\n",
              "       [0., 0., 0., ..., 0., 0., 0.],\n",
              "       [3., 0., 0., ..., 0., 0., 0.]])"
            ]
          },
          "metadata": {
            "tags": []
          },
          "execution_count": 100
        }
      ]
    },
    {
      "cell_type": "markdown",
      "metadata": {
        "id": "0uUL2XsG3Em8",
        "colab_type": "text"
      },
      "source": [
        "###Item-item and User Item Similarity Matrices\n",
        "First we need to normalize the rating matrix and then unrated matrices are given as zero rating, afterwards the Similarity matrix is created using Fast Similarity function. Related maths can be found in the link provied in the references."
      ]
    },
    {
      "cell_type": "code",
      "metadata": {
        "id": "HmxRWJZC4SE2",
        "colab_type": "code",
        "colab": {}
      },
      "source": [
        "cnts = np.sum((Rating_matrix>0),axis = 1)"
      ],
      "execution_count": 0,
      "outputs": []
    },
    {
      "cell_type": "code",
      "metadata": {
        "id": "584rFJxIIfYn",
        "colab_type": "code",
        "colab": {}
      },
      "source": [
        "rating_matrix = np.zeros((Users+1,Total_Movies))"
      ],
      "execution_count": 0,
      "outputs": []
    },
    {
      "cell_type": "markdown",
      "metadata": {
        "id": "sl10U0CGwiDA",
        "colab_type": "text"
      },
      "source": [
        ""
      ]
    },
    {
      "cell_type": "code",
      "metadata": {
        "id": "nofnLhNV26Z0",
        "colab_type": "code",
        "colab": {}
      },
      "source": [
        "mean = {}\n",
        "for j in range(1,Users):\n",
        "  mean[j] = np.sum(Rating_matrix[j,:])/cnts[j];\n",
        "  #print(mean)\n",
        "  for i in  range(0,Total_Movies):\n",
        "    if (Rating_matrix[j,i]!=0):\n",
        "      rating_matrix[j,i] = Rating_matrix[j,i]\n",
        "      rating_matrix[j,i]-=mean[j]"
      ],
      "execution_count": 0,
      "outputs": []
    },
    {
      "cell_type": "code",
      "metadata": {
        "id": "dWx794vF49yJ",
        "colab_type": "code",
        "colab": {
          "base_uri": "https://localhost:8080/",
          "height": 228
        },
        "outputId": "74d660a6-3590-45cc-cdd9-3d8482400614"
      },
      "source": [
        "rating_matrix"
      ],
      "execution_count": 104,
      "outputs": [
        {
          "output_type": "execute_result",
          "data": {
            "text/plain": [
              "array([[0.        , 0.        , 0.        , ..., 0.        , 0.        ,\n",
              "        0.        ],\n",
              "       [0.81132075, 0.        , 0.        , ..., 0.        , 0.        ,\n",
              "        0.        ],\n",
              "       [0.        , 0.        , 0.        , ..., 0.        , 0.        ,\n",
              "        0.        ],\n",
              "       ...,\n",
              "       [0.        , 0.        , 0.        , ..., 0.        , 0.        ,\n",
              "        0.        ],\n",
              "       [0.        , 0.        , 0.        , ..., 0.        , 0.        ,\n",
              "        0.        ],\n",
              "       [0.        , 0.        , 0.        , ..., 0.        , 0.        ,\n",
              "        0.        ]])"
            ]
          },
          "metadata": {
            "tags": []
          },
          "execution_count": 104
        }
      ]
    },
    {
      "cell_type": "code",
      "metadata": {
        "id": "5NfFhuG0Kf1F",
        "colab_type": "code",
        "colab": {}
      },
      "source": [
        "def fast_similarity(ratings, kind='user', epsilon=1e-9):\n",
        "    # epsilon -> small number for handling dived-by-zero errors\n",
        "    if kind == 'user':\n",
        "        sim = ratings.dot(ratings.T) + epsilon\n",
        "    elif kind == 'item':\n",
        "        sim = ratings.T.dot(ratings) + epsilon\n",
        "    norms = np.array([np.sqrt(np.diagonal(sim))])\n",
        "    return (sim / norms / norms.T)"
      ],
      "execution_count": 0,
      "outputs": []
    },
    {
      "cell_type": "code",
      "metadata": {
        "id": "0-1Pu_0aK_u2",
        "colab_type": "code",
        "colab": {}
      },
      "source": [
        "user_similarity = fast_similarity(rating_matrix, kind='user')\n",
        "item_similarity = fast_similarity(rating_matrix, kind='item')"
      ],
      "execution_count": 0,
      "outputs": []
    },
    {
      "cell_type": "code",
      "metadata": {
        "id": "jNtOwajZJsTm",
        "colab_type": "code",
        "colab": {
          "base_uri": "https://localhost:8080/",
          "height": 228
        },
        "outputId": "1aea9651-85e2-4c8f-ee86-41541f3c42d7"
      },
      "source": [
        "item_similarity"
      ],
      "execution_count": 107,
      "outputs": [
        {
          "output_type": "execute_result",
          "data": {
            "text/plain": [
              "array([[ 1.00000000e+00, -5.15497762e-02, -5.88673820e-02, ...,\n",
              "         1.11996696e-02,  1.98191095e-02,  3.75068055e-02],\n",
              "       [-5.15497762e-02,  1.00000000e+00,  2.06822472e-02, ...,\n",
              "        -2.77643420e-02, -1.43227878e-02, -2.70860076e-02],\n",
              "       [-5.88673820e-02,  2.06822472e-02,  1.00000000e+00, ...,\n",
              "         2.05272935e-03, -5.30215400e-04, -1.71746535e-02],\n",
              "       ...,\n",
              "       [ 1.11996696e-02, -2.77643420e-02,  2.05272935e-03, ...,\n",
              "         1.00000000e+00,  6.30028263e-02,  3.32756719e-02],\n",
              "       [ 1.98191095e-02, -1.43227878e-02, -5.30215400e-04, ...,\n",
              "         6.30028263e-02,  1.00000000e+00,  8.84944762e-02],\n",
              "       [ 3.75068055e-02, -2.70860076e-02, -1.71746535e-02, ...,\n",
              "         3.32756719e-02,  8.84944762e-02,  1.00000000e+00]])"
            ]
          },
          "metadata": {
            "tags": []
          },
          "execution_count": 107
        }
      ]
    },
    {
      "cell_type": "markdown",
      "metadata": {
        "id": "U7SmL54kiyvI",
        "colab_type": "text"
      },
      "source": [
        "#Recommendation: Similar Items to a given item\n",
        "Here we try to find similarities between the given movie and other movies in the list using the cosine similarities between the various items.\n",
        "\n",
        "![image.png](data:image/png;base64,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)"
      ]
    },
    {
      "cell_type": "code",
      "metadata": {
        "id": "oAjyxzkRfjiM",
        "colab_type": "code",
        "colab": {
          "base_uri": "https://localhost:8080/",
          "height": 98
        },
        "outputId": "ce33f09f-794b-4e78-bd95-9093afd5853a"
      },
      "source": [
        "#Longer method: Taking similarity with each item \n",
        "x = int(input(\"Enter the movieId to which you want to search similar items: \"))\n",
        "y = Id_Map[x]\n",
        "Movie_column = rating_matrix[:,y].reshape((-1,1))\n",
        "Similarity_list = []\n",
        "Square_matrix = np.sqrt(np.sum(rating_matrix*rating_matrix,axis = 0))\n",
        "for i in range(0,Total_Movies):\n",
        "    Movie_i = rating_matrix[:,i].reshape(-1,1)\n",
        "    if (Square_matrix[i]*Square_matrix[y]==0):\n",
        "      similarity = -1\n",
        "    else:\n",
        "      similarity = (Movie_column.T).dot(Movie_i)/(Square_matrix[i]*Square_matrix[y])\n",
        "    Similarity_list.append(similarity)\n",
        "Similarity_list = np.array(Similarity_list).reshape(-1,1)\n",
        "Final = sorted(range(len(Similarity_list)), key=lambda i: Similarity_list[i])[-4:]\n",
        "print(\"Top 3 Recommended films which are similar to given film are: \")\n",
        "for i in range(0,3):\n",
        "    print(Movies.iloc[Final[2-i],1])"
      ],
      "execution_count": 110,
      "outputs": [
        {
          "output_type": "stream",
          "text": [
            "Enter the movieId to which you want to search similar items: 5\n",
            "Top 3 Recommended films which are similar to given film are: \n",
            "Sister Act 2: Back in the Habit (1993)\n",
            "Home Alone 2: Lost in New York (1992)\n",
            "Nine Months (1995)\n"
          ],
          "name": "stdout"
        }
      ]
    },
    {
      "cell_type": "code",
      "metadata": {
        "id": "N6AoWmqmU8-T",
        "colab_type": "code",
        "colab": {
          "base_uri": "https://localhost:8080/",
          "height": 228
        },
        "outputId": "e20661cf-13fc-46db-a538-7f98cc72ceef"
      },
      "source": [
        "#From the item_similarity Matrix\n",
        "Similarity_list = item_similarity[y,:]\n",
        "Final = sorted(range(len(Similarity_list)), key=lambda i: Similarity_list[i])[-4:]\n",
        "print(\"Top 3 Recommended films which are similar to given film are: \")\n",
        "for i in range(0,3):\n",
        "    print(Movies.iloc[Final[2-i],:3])"
      ],
      "execution_count": 111,
      "outputs": [
        {
          "output_type": "stream",
          "text": [
            "Top 3 Recommended films which are similar to given film are: \n",
            "0                                      3248\n",
            "1    Sister Act 2: Back in the Habit (1993)\n",
            "2                                    Comedy\n",
            "Name: 3179, dtype: object\n",
            "0                                     2953\n",
            "1    Home Alone 2: Lost in New York (1992)\n",
            "2                        Children's|Comedy\n",
            "Name: 2884, dtype: object\n",
            "0                   186\n",
            "1    Nine Months (1995)\n",
            "2                Comedy\n",
            "Name: 184, dtype: object\n"
          ],
          "name": "stdout"
        }
      ]
    },
    {
      "cell_type": "code",
      "metadata": {
        "id": "SEnk5d2Vs2q6",
        "colab_type": "code",
        "colab": {
          "base_uri": "https://localhost:8080/",
          "height": 82
        },
        "outputId": "37d954cc-24e0-4132-e2c5-f8d33727a8fa"
      },
      "source": [
        "Movies.iloc[y,:]"
      ],
      "execution_count": 113,
      "outputs": [
        {
          "output_type": "execute_result",
          "data": {
            "text/plain": [
              "0                                     5\n",
              "1    Father of the Bride Part II (1995)\n",
              "2                                Comedy\n",
              "Name: 4, dtype: object"
            ]
          },
          "metadata": {
            "tags": []
          },
          "execution_count": 113
        }
      ]
    },
    {
      "cell_type": "markdown",
      "metadata": {
        "id": "2l0VJghhqrC3",
        "colab_type": "text"
      },
      "source": [
        "Here, suppose we want to find the movies which are similar to MovieId - 5 i.e. Father of the Bride Part II (1995). Our system recommends above three as the top three Movies which are most similar to MovieId-5. We can see here a fair similarity in the genres of the provided movie and the Movies predicted which is what should be, as movies with similar genres are often similar. All three of them are having genres : <U>Comedy</u> same as the movie Toy story(1995). Hence the items predicted are fairly similar to the provided item"
      ]
    },
    {
      "cell_type": "markdown",
      "metadata": {
        "id": "GXkgCQvfqBxD",
        "colab_type": "text"
      },
      "source": [
        "#References:\n",
        "https://www.ethanrosenthal.com/2015/11/02/intro-to-collaborative-filtering/\n"
      ]
    }
  ]
}